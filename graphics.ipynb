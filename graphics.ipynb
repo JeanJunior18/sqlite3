{
 "cells": [
  {
   "cell_type": "code",
   "execution_count": null,
   "metadata": {},
   "outputs": [],
   "source": [
    "import matplotlib.pyplot as plt\n",
    "import sqlite3\n",
    "con = sqlite3.connect('escola.db')\n",
    "cursor = con.cursor()"
   ]
  },
  {
   "cell_type": "code",
   "execution_count": null,
   "metadata": {},
   "outputs": [],
   "source": [
    "cursor.execute('select nome,cpf from cursos')\n",
    "dados = cursor.fetchall()\n",
    "nomes = []\n",
    "cpfs = []\n",
    "for linha in dados:\n",
    "    nomes.append(linha[0])\n",
    "    cpfs.append(linha[1])\n",
    "plt.bar(nomes,cpfs)\n",
    "plt.show()"
   ]
  }
 ],
 "metadata": {
  "kernelspec": {
   "display_name": "Python 3",
   "language": "python",
   "name": "python3"
  },
  "language_info": {
   "codemirror_mode": {
    "name": "ipython",
    "version": 3
   },
   "file_extension": ".py",
   "mimetype": "text/x-python",
   "name": "python",
   "nbconvert_exporter": "python",
   "pygments_lexer": "ipython3",
   "version": "3.7.4"
  }
 },
 "nbformat": 4,
 "nbformat_minor": 4
}
